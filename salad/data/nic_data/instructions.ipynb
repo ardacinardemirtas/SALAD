{
 "cells": [
  {
   "cell_type": "markdown",
   "metadata": {},
   "source": [
    "Here is some sample code to show how to load/use the latents and poses."
   ]
  },
  {
   "cell_type": "code",
   "execution_count": null,
   "metadata": {},
   "outputs": [],
   "source": [
    "%matplotlib inline\n",
    "%load_ext autoreload\n",
    "%autoreload 2"
   ]
  },
  {
   "cell_type": "code",
   "execution_count": null,
   "metadata": {},
   "outputs": [],
   "source": [
    "import torch\n",
    "import h5py\n",
    "import numpy as np\n",
    "import trimesh\n",
    "\n",
    "device = torch.device('cuda' if torch.cuda.is_available() else 'cpu')"
   ]
  },
  {
   "cell_type": "markdown",
   "metadata": {},
   "source": [
    "# Load latents and poses\n",
    "Latent vectors are stored as a $N\\times P\\times L$ tensor, with $N$ the number of shapes in the dataset, $P$ the number of primitives, and $L$ the latent space.\n",
    "\n",
    "Similarly, poses are stored as a $N\\times P\\times 10$ tensor, with the last 10 dimensions corresponding to:\n",
    "* rotation (as quaternion) $\\in\\mathbb{R}^4$\n",
    "* translation $\\in\\mathbb{R}^3$\n",
    "* scale $\\in\\mathbb{R}^3$\n",
    "\n",
    "For smaller tests, don't hesitate to subsample less shapes."
   ]
  },
  {
   "cell_type": "code",
   "execution_count": null,
   "metadata": {},
   "outputs": [],
   "source": [
    "# How to load latents as a tensor:\n",
    "latents = torch.load(\"latents.pth\", map_location=device)['weight']\n",
    "print(latents.shape)"
   ]
  },
  {
   "cell_type": "code",
   "execution_count": null,
   "metadata": {},
   "outputs": [],
   "source": [
    "# How to load poses as a tensor:\n",
    "poses = torch.load(\"poses.pth\", map_location=device)['weight']\n",
    "print(poses.shape)"
   ]
  },
  {
   "cell_type": "code",
   "execution_count": null,
   "metadata": {},
   "outputs": [],
   "source": [
    "scene = trimesh.Scene()\n",
    "\n",
    "mesh = trimesh.primitives.Box(extents=(1, 1, 1))\n",
    "\n",
    "# Create a 4x4 transformation matrix for rotation\n",
    "\n",
    "rotation_quat = [0, 0, 0, 1]\n",
    "translation = [1,0,0]\n",
    "rottrans_matrix = np.eye(4)\n",
    "rottrans_matrix[:3, :3] = R.from_quat(rotation_quat).as_matrix()\n",
    "rottrans_matrix[:3, 3] = translation\n",
    "\n",
    "# Apply rotation and translation\n",
    "mesh.apply_transform(rottrans_matrix)\n",
    "\n",
    "\n",
    "scene.add_geometry(mesh)\n",
    "\n",
    "# Axis length for visualization\n",
    "axis_length = 1.0\n",
    "\n",
    "# Create the X, Y, and Z axis lines as Path3D objects with per-segment colors\n",
    "x_axis = trimesh.load_path([[0, 0, 0], [axis_length, 0, 0]])\n",
    "y_axis = trimesh.load_path([[0, 0, 0], [0, axis_length, 0]])\n",
    "z_axis = trimesh.load_path([[0, 0, 0], [0, 0, axis_length]])\n",
    "\n",
    "# Assign colors to the vertices of each axis\n",
    "x_axis.entities[0].color = [255, 0, 0, 255]  # Red for X-axis\n",
    "y_axis.entities[0].color = [0, 255, 0, 255]  # Green for Y-axis\n",
    "z_axis.entities[0].color = [0, 0, 255, 255]  # Blue for Z-axis\n",
    "\n",
    "# Add the axes to the scene\n",
    "scene.add_geometry(x_axis)\n",
    "scene.add_geometry(y_axis)\n",
    "scene.add_geometry(z_axis)\n",
    "\n",
    "# Show the scene\n",
    "scene.show()\n",
    "\n",
    "\n",
    "# Show the scene\n",
    "scene.show()\n",
    "\n"
   ]
  },
  {
   "cell_type": "markdown",
   "metadata": {},
   "source": [
    "### Visualize Poses"
   ]
  },
  {
   "cell_type": "code",
   "execution_count": null,
   "metadata": {},
   "outputs": [],
   "source": [
    "import numpy as np\n",
    "import trimesh\n",
    "from scipy.spatial.transform import Rotation as R\n",
    "\n",
    "# Assuming `dataset` is your dataset (num_examples, num_parts, poses)\n",
    "# Select an example and the first part for simplicity\n",
    "example = poses[76]  # Choose the first example\n",
    "print(example.shape)\n",
    "\n",
    "# Create an empty scene to hold all parts\n",
    "scene = trimesh.Scene()\n",
    "\n",
    "# Assuming `example` is a tensor with shape (num_parts, poses)\n",
    "num_parts = example.shape[0]\n",
    "\n",
    "for i in range(0, num_parts):\n",
    "    print(f\"Processing part {i}\")\n",
    "    pose = example[i]\n",
    "    translation = pose[4:7].cpu().numpy()          # Translation parameters (x, y, z)\n",
    "    rotation_quat = pose[0:4].cpu().numpy()        # Quaternion (x, y, z, w)\n",
    "    scale = pose[7:].cpu().numpy()               # Scale parameters (x, y, z)\n",
    "\n",
    "    # Create a basic mesh (e.g., a box with the given scale)\n",
    "    mesh = trimesh.primitives.Box(extents=scale)\n",
    "\n",
    "    rottrans_matrix = np.eye(4)\n",
    "    rottrans_matrix[:3, :3] = R.from_quat(rotation_quat).as_matrix()\n",
    "    rottrans_matrix[:3, 3] = translation\n",
    "\n",
    "    # Apply rotation and translation\n",
    "    mesh.apply_transform(rottrans_matrix)\n",
    "\n",
    "    # Add the transformed mesh to the scene\n",
    "    scene.add_geometry(mesh)\n",
    "\n",
    "# Axis length for visualization\n",
    "axis_length = 1.0\n",
    "\n",
    "# Create the X, Y, and Z axis lines as Path3D objects with per-segment colors\n",
    "x_axis = trimesh.load_path([[0, 0, 0], [axis_length, 0, 0]])\n",
    "y_axis = trimesh.load_path([[0, 0, 0], [0, axis_length, 0]])\n",
    "z_axis = trimesh.load_path([[0, 0, 0], [0, 0, axis_length]])\n",
    "\n",
    "# Assign colors to the vertices of each axis\n",
    "x_axis.entities[0].color = [255, 0, 0, 255]  # Red for X-axis\n",
    "y_axis.entities[0].color = [0, 255, 0, 255]  # Green for Y-axis\n",
    "z_axis.entities[0].color = [0, 0, 255, 255]  # Blue for Z-axis\n",
    "\n",
    "# Add the axes to the scene\n",
    "scene.add_geometry(x_axis)\n",
    "scene.add_geometry(y_axis)\n",
    "scene.add_geometry(z_axis)\n",
    "\n",
    "# Visualize the entire scene\n",
    "scene.show()\n"
   ]
  },
  {
   "cell_type": "code",
   "execution_count": null,
   "metadata": {},
   "outputs": [],
   "source": [
    "scale"
   ]
  },
  {
   "cell_type": "code",
   "execution_count": null,
   "metadata": {},
   "outputs": [],
   "source": [
    "from primitives import mesh_cuboid, mesh_cylinder"
   ]
  },
  {
   "cell_type": "code",
   "execution_count": null,
   "metadata": {},
   "outputs": [],
   "source": [
    "# Get the pose of the first car's part\n",
    "idx = 211\n",
    "pose = poses[idx].detach().cpu().numpy()\n",
    "\n",
    "# Extract the rotation, translation, and scale parameters\n",
    "quaternions = pose[:, :4]\n",
    "translations = pose[:, 4:7]\n",
    "scales = pose[:, 7:10]\n",
    "\n",
    "# Mesh cuboids or cylinders\n",
    "# NOTE: the factors of 2 are needed for some parameters when converting to trimesh primitives\n",
    "#   because my scale factor are half-lengths. \n",
    "cuboids = [mesh_cuboid(scales[i] * 2, translations[i], quaternions[i]) for i in range(0, 1)]\n",
    "cylinders = [mesh_cylinder(scales[i, 0], scales[i, 2] * 2, translations[i], quaternions[i]) for i in range(1, 5)]\n",
    "\n",
    "# Visualize them\n",
    "trimesh.Scene([trimesh.creation.axis()] + cylinders + cuboids).show()"
   ]
  },
  {
   "cell_type": "markdown",
   "metadata": {},
   "source": [
    "I guess you might need to flatten them into a vector for the diffusion:"
   ]
  },
  {
   "cell_type": "code",
   "execution_count": null,
   "metadata": {},
   "outputs": [],
   "source": [
    "# print(latents.flatten(1).shape)\n",
    "# print(poses.flatten(1).shape)\n",
    "\n",
    "# # And if you want to concatenate them:\n",
    "# print(\"\\nWhen combined per parts:\")\n",
    "# combined = torch.cat([latents, poses], dim=-1)\n",
    "# print(combined.shape)\n",
    "# print(combined.flatten(1).shape)"
   ]
  },
  {
   "cell_type": "code",
   "execution_count": null,
   "metadata": {},
   "outputs": [],
   "source": []
  },
  {
   "cell_type": "markdown",
   "metadata": {},
   "source": [
    "### Dataset Creation"
   ]
  },
  {
   "cell_type": "code",
   "execution_count": null,
   "metadata": {},
   "outputs": [],
   "source": [
    "# Convert tensors to numpy arrays if necessary\n",
    "g_js_affine_np = poses.cpu().numpy()\n",
    "s_j_affine_np = latents.cpu().numpy()\n",
    "\n",
    "# Create an HDF5 file and write the datasets\n",
    "output_hdf5_path = '/auto/k2/ademirtas/codes/diffusion/salad/salad/data/arda_cars.hdf5'\n",
    "with h5py.File(output_hdf5_path, 'w') as hdf5_file:\n",
    "    hdf5_file.create_dataset('g_js_affine', data=g_js_affine_np, dtype=np.float64)\n",
    "    hdf5_file.create_dataset('s_j_affine', data=s_j_affine_np, dtype=np.float64)\n",
    "\n",
    "print(f\"HDF5 file created at {output_hdf5_path} with datasets 'g_js_affine', 's_j_affine'\")"
   ]
  },
  {
   "cell_type": "code",
   "execution_count": null,
   "metadata": {},
   "outputs": [],
   "source": [
    "with h5py.File(\"/auto/k2/ademirtas/codes/diffusion/salad/salad/data/arda_cars.hdf5\", 'r') as f:\n",
    "    # Print all root level keys (groups, datasets)\n",
    "    print(\"Keys:\", list(f.keys()))\n",
    "    \n",
    "    # Example: Access and read a specific dataset\n",
    "    # dataset_name = 'name_of_your_dataset'  # Replace with the actual dataset name if known\n",
    "    # data = f[dataset_name][:]\n",
    "    # print(data)\n",
    "    \n",
    "    # Recursively print all groups and datasets in the file\n",
    "    def print_hdf5_item(name, item):\n",
    "        print(name, \":\", item)\n",
    "        \n",
    "    f.visititems(print_hdf5_item)"
   ]
  },
  {
   "cell_type": "code",
   "execution_count": null,
   "metadata": {},
   "outputs": [],
   "source": [
    "output_hdf5_path = \"/auto/k2/ademirtas/codes/diffusion/salad/salad/data/arda_cars_mean_std.hdf5\"\n",
    "\n",
    "# Calculate means and standard deviations\n",
    "mean = np.mean(g_js_affine_np, axis=(0, 1))    # Mean over the first two dimensions, shape: (16,)\n",
    "std = np.std(g_js_affine_np, axis=(0, 1))      # Std over the first two dimensions, shape: (16,)\n",
    "\n",
    "sj_mean = np.mean(s_j_affine_np, axis=(0, 1))  # Mean over the first two dimensions, shape: (512,)\n",
    "sj_std = np.std(s_j_affine_np, axis=(0, 1))    # Std over the first two dimensions, shape: (512,)\n",
    "\n",
    "# Create an HDF5 file for the calculated statistics\n",
    "with h5py.File(output_hdf5_path, 'w') as output_file:\n",
    "    output_file.create_dataset('mean', data=mean, dtype=np.float64)\n",
    "    output_file.create_dataset('std', data=std, dtype=np.float64)\n",
    "    output_file.create_dataset('sj_mean', data=sj_mean, dtype=np.float64)\n",
    "    output_file.create_dataset('sj_std', data=sj_std, dtype=np.float64)\n",
    "\n",
    "print(f\"Mean and std dataset created at {output_hdf5_path} with keys ['mean', 'std', 'sj_mean', 'sj_std'].\")\n"
   ]
  },
  {
   "cell_type": "code",
   "execution_count": null,
   "metadata": {},
   "outputs": [],
   "source": [
    "with h5py.File(\"/auto/k2/ademirtas/codes/diffusion/salad/salad/data/arda_cars_mean_std.hdf5\", 'r') as f:\n",
    "    # Print all root level keys (groups, datasets)\n",
    "    print(\"Keys:\", list(f.keys()))\n",
    "    \n",
    "    # Example: Access and read a specific dataset\n",
    "    # dataset_name = 'name_of_your_dataset'  # Replace with the actual dataset name if known\n",
    "    # data = f[dataset_name][:]\n",
    "    # print(data)\n",
    "    \n",
    "    # Recursively print all groups and datasets in the file\n",
    "    def print_hdf5_item(name, item):\n",
    "        print(name, \":\", item)\n",
    "        \n",
    "    f.visititems(print_hdf5_item)"
   ]
  },
  {
   "cell_type": "code",
   "execution_count": null,
   "metadata": {},
   "outputs": [],
   "source": []
  }
 ],
 "metadata": {
  "kernelspec": {
   "display_name": "salad",
   "language": "python",
   "name": "python3"
  },
  "language_info": {
   "codemirror_mode": {
    "name": "ipython",
    "version": 3
   },
   "file_extension": ".py",
   "mimetype": "text/x-python",
   "name": "python",
   "nbconvert_exporter": "python",
   "pygments_lexer": "ipython3",
   "version": "3.9.16"
  }
 },
 "nbformat": 4,
 "nbformat_minor": 2
}
