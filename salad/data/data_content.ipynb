{
 "cells": [
  {
   "cell_type": "code",
   "execution_count": null,
   "metadata": {},
   "outputs": [],
   "source": [
    "import h5py"
   ]
  },
  {
   "cell_type": "code",
   "execution_count": null,
   "metadata": {},
   "outputs": [],
   "source": [
    "with h5py.File(\"spaghetti_airplane_latents.hdf5\", 'r') as f:\n",
    "    # Print all root level keys (groups, datasets)\n",
    "    print(\"Keys:\", list(f.keys()))\n",
    "    \n",
    "    # Example: Access and read a specific dataset\n",
    "    # dataset_name = 'name_of_your_dataset'  # Replace with the actual dataset name if known\n",
    "    # data = f[dataset_name][:]\n",
    "    # print(data)\n",
    "    \n",
    "    # Recursively print all groups and datasets in the file\n",
    "    def print_hdf5_item(name, item):\n",
    "        print(name, \":\", item)\n",
    "        \n",
    "    f.visititems(print_hdf5_item)"
   ]
  },
  {
   "cell_type": "code",
   "execution_count": null,
   "metadata": {},
   "outputs": [],
   "source": [
    "with h5py.File(\"spaghetti_airplane_latents_mean_std.hdf5\", 'r') as f:\n",
    "    # Print all root level keys (groups, datasets)\n",
    "    print(\"Keys:\", list(f.keys()))\n",
    "    \n",
    "    # Example: Access and read a specific dataset\n",
    "    # dataset_name = 'name_of_your_dataset'  # Replace with the actual dataset name if known\n",
    "    # data = f[dataset_name][:]\n",
    "    # print(data)\n",
    "    \n",
    "    # Recursively print all groups and datasets in the file\n",
    "    def print_hdf5_item(name, item):\n",
    "        print(name, \":\", item)\n",
    "        \n",
    "    f.visititems(print_hdf5_item)"
   ]
  },
  {
   "cell_type": "code",
   "execution_count": null,
   "metadata": {},
   "outputs": [],
   "source": []
  }
 ],
 "metadata": {
  "kernelspec": {
   "display_name": "mamba",
   "language": "python",
   "name": "python3"
  },
  "language_info": {
   "codemirror_mode": {
    "name": "ipython",
    "version": 3
   },
   "file_extension": ".py",
   "mimetype": "text/x-python",
   "name": "python",
   "nbconvert_exporter": "python",
   "pygments_lexer": "ipython3",
   "version": "3.8.13"
  }
 },
 "nbformat": 4,
 "nbformat_minor": 2
}
