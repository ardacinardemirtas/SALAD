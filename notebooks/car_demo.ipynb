{
 "cells": [
  {
   "cell_type": "code",
   "execution_count": null,
   "metadata": {},
   "outputs": [],
   "source": [
    "%load_ext autoreload\n",
    "%autoreload 2\n",
    "\n",
    "import torch\n",
    "import torch.nn as nn\n",
    "from salad.models.phase1 import Phase1Model\n",
    "from salad.models.phase2 import Phase2Model\n",
    "from salad.models.language_phase1 import LangPhase1Model\n",
    "from salad.models.language_phase2 import LangPhase2Model\n",
    "from omegaconf import OmegaConf\n",
    "import trimesh\n",
    "import hydra\n",
    "from salad.model_components.network import UnCondDiffNetwork, CondDiffNetwork\n",
    "from salad.utils import visutil, imageutil\n",
    "from salad.utils.spaghetti_util import *\n",
    "from typing import Literal\n",
    "from pytorch_lightning import seed_everything\n",
    "device = \"cuda:2\"\n",
    "\n",
    "def load_model(category: Literal[\"airplane\", \"chair\", \"table\", \"car\"], model_class: Literal[\"phase1\", \"phase2\"], device):\n",
    "    c = OmegaConf.load(f\"../checkpoints/{category}/{model_class}/hparams.yaml\")\n",
    "    model = hydra.utils.instantiate(c)\n",
    "    # ckpt = torch.load(f\"../checkpoints/{category}/{model_class}/car.ckpt\")\n",
    "    ckpt = torch.load(f\"/auto/k2/ademirtas/codes/diffusion/salad/results/car/phase1/1110_015913/checkpoints/epoch=3382-train_loss=0.0000.ckpt\")\n",
    "    model.load_state_dict(ckpt[\"state_dict\"])\n",
    "    model.eval()\n",
    "    for p in model.parameters(): p.requires_grad_(False)\n",
    "    model = model.to(device)\n",
    "    return model"
   ]
  },
  {
   "cell_type": "code",
   "execution_count": null,
   "metadata": {},
   "outputs": [],
   "source": [
    "phase1_model = load_model(\"car\", \"phase1\", device)"
   ]
  },
  {
   "cell_type": "code",
   "execution_count": null,
   "metadata": {},
   "outputs": [],
   "source": [
    "seed_everything(63)\n",
    "\n",
    "# phase1 sampling\n",
    "extrinsics = phase1_model.sampling_poses(4)"
   ]
  },
  {
   "cell_type": "code",
   "execution_count": null,
   "metadata": {},
   "outputs": [],
   "source": [
    "extrinsics.shape"
   ]
  },
  {
   "cell_type": "code",
   "execution_count": null,
   "metadata": {},
   "outputs": [],
   "source": [
    "poses = extrinsics"
   ]
  },
  {
   "cell_type": "code",
   "execution_count": null,
   "metadata": {},
   "outputs": [],
   "source": [
    "from primitives import mesh_cuboid, mesh_cylinder"
   ]
  },
  {
   "cell_type": "code",
   "execution_count": null,
   "metadata": {},
   "outputs": [],
   "source": [
    "# Get the pose of the first car's part\n",
    "idx = 0\n",
    "pose = poses[idx].detach().cpu().numpy()\n",
    "\n",
    "# Extract the rotation, translation, and scale parameters\n",
    "quaternions = pose[:, :4]\n",
    "translations = pose[:, 4:7]\n",
    "scales = pose[:, 7:10]\n",
    "\n",
    "# Mesh cuboids or cylinders\n",
    "# NOTE: the factors of 2 are needed for some parameters when converting to trimesh primitives\n",
    "#   because my scale factor are half-lengths. \n",
    "cuboids = [mesh_cuboid(scales[i] * 2, translations[i], quaternions[i]) for i in range(0, 1)]\n",
    "cylinders = [mesh_cylinder(scales[i, 0], scales[i, 2] * 2, translations[i], quaternions[i]) for i in range(1,5)]\n",
    "# cylinders.append(mesh_cylinder(scales[i, 0], scales[i, 2] * 2, translations[i], quaternions[i]) for i in range(2, 5))\n",
    "\n",
    "# Visualize them\n",
    "trimesh.Scene([trimesh.creation.axis()] + cylinders + cuboids).show()"
   ]
  },
  {
   "cell_type": "code",
   "execution_count": null,
   "metadata": {},
   "outputs": [],
   "source": []
  }
 ],
 "metadata": {
  "kernelspec": {
   "display_name": "salad",
   "language": "python",
   "name": "python3"
  },
  "language_info": {
   "codemirror_mode": {
    "name": "ipython",
    "version": 3
   },
   "file_extension": ".py",
   "mimetype": "text/x-python",
   "name": "python",
   "nbconvert_exporter": "python",
   "pygments_lexer": "ipython3",
   "version": "3.9.16"
  }
 },
 "nbformat": 4,
 "nbformat_minor": 2
}
